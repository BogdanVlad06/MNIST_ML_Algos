{
 "cells": [
  {
   "cell_type": "markdown",
   "id": "edc5ba06-a3ae-4244-9494-ec82c63b3789",
   "metadata": {},
   "source": [
    "This project demonstrates a beginner-friendly approach to MNIST classification using an SVM classifier. The MNIST dataset consists of images in formats such as JPG, JPEG, and PNG, which I process using OpenCV to convert them into numerical data suitable for machine learning. At the end, I test the classifier using custom inputs that I drew in Paint, and the model performs well enough to meet my expectations, though I’m giving it some slack for a bit of room to improve."
   ]
  },
  {
   "cell_type": "markdown",
   "id": "d9f2a969-68af-4542-8768-9d2118c6c85e",
   "metadata": {},
   "source": [
    "## General imports"
   ]
  },
  {
   "cell_type": "code",
   "execution_count": 1,
   "id": "01c0536b-f85f-4391-9b84-03d67baf942e",
   "metadata": {},
   "outputs": [],
   "source": [
    "import cv2\n",
    "import os\n",
    "import matplotlib.pyplot as plt\n",
    "import pandas as pd\n",
    "import numpy as np"
   ]
  },
  {
   "cell_type": "markdown",
   "id": "94651df0-fa49-469e-be88-e7d645eed578",
   "metadata": {},
   "source": [
    "## Reading images workflow"
   ]
  },
  {
   "cell_type": "code",
   "execution_count": 2,
   "id": "d838d4b5-5196-4c82-a99c-f2f93adcd442",
   "metadata": {},
   "outputs": [],
   "source": [
    "folder_path = '../MNIST/mnist-png' # 'C:/Users/gurau/Desktop/Jupyter_Lab/3. Computer Vision/MNIST/mnist-png'"
   ]
  },
  {
   "cell_type": "code",
   "execution_count": 3,
   "id": "2fef57f4-5564-44da-a866-654b3a9bf308",
   "metadata": {},
   "outputs": [
    {
     "data": {
      "text/plain": [
       "['MyTestBatch', 'test', 'train']"
      ]
     },
     "execution_count": 3,
     "metadata": {},
     "output_type": "execute_result"
    }
   ],
   "source": [
    "os.listdir(folder_path)"
   ]
  },
  {
   "cell_type": "markdown",
   "id": "de630bb7-d18e-47df-b33e-ad3ff905a7e0",
   "metadata": {},
   "source": [
    "#### Function for reading images (from image format to numeric arrays of (size, size, channels))"
   ]
  },
  {
   "cell_type": "code",
   "execution_count": 4,
   "id": "77ee82b4-62bd-407f-8e3a-f7dc47681203",
   "metadata": {},
   "outputs": [],
   "source": [
    "def read_imgs(ds_type, folder_path):\n",
    "    folder = os.path.join(folder_path, ds_type)\n",
    "    images, labels = [], []\n",
    "    \n",
    "    for digit in os.listdir(folder):\n",
    "        files_path = os.path.join(folder, digit)\n",
    "        for image in os.listdir(files_path):\n",
    "            image_path = os.path.join(files_path, image)\n",
    "            images.append(cv2.imread(image_path))\n",
    "            labels.append(int(digit))\n",
    "            \n",
    "    return images, labels"
   ]
  },
  {
   "cell_type": "markdown",
   "id": "cca5702e-639f-462b-a080-3fba875519f7",
   "metadata": {},
   "source": [
    "#### Dataset stored as numeric values, not shuffled"
   ]
  },
  {
   "cell_type": "code",
   "execution_count": 5,
   "id": "65c18db9-fc16-48db-ab11-48013f753c4f",
   "metadata": {},
   "outputs": [],
   "source": [
    "train_set = read_imgs('train', folder_path)\n",
    "test_set = read_imgs('test', folder_path)"
   ]
  },
  {
   "cell_type": "markdown",
   "id": "18b8ad94-bba9-4504-8b2a-b7ca1366a65a",
   "metadata": {},
   "source": [
    "#### Function to make dataset in grayscale instead of BGR"
   ]
  },
  {
   "cell_type": "code",
   "execution_count": 6,
   "id": "32ee3d06-e244-4585-a8f6-072a3b5debd8",
   "metadata": {},
   "outputs": [],
   "source": [
    "def toGray(dataset):\n",
    "    images, labels = dataset\n",
    "    for i in range(len(images)):\n",
    "        images[i] = cv2.cvtColor(images[i], cv2.COLOR_BGR2GRAY)"
   ]
  },
  {
   "cell_type": "code",
   "execution_count": 7,
   "id": "a93fed29-d1bb-4b3a-b16f-721317d2df28",
   "metadata": {},
   "outputs": [],
   "source": [
    "toGray(train_set)\n",
    "toGray(test_set)"
   ]
  },
  {
   "cell_type": "markdown",
   "id": "c89f92d6-3295-4ea4-bb24-8f22358ff525",
   "metadata": {},
   "source": [
    "#### Function to flatten each image"
   ]
  },
  {
   "cell_type": "code",
   "execution_count": 8,
   "id": "3557aa8c-6838-488c-9094-9500d43900d5",
   "metadata": {},
   "outputs": [
    {
     "data": {
      "text/plain": [
       "(784,)"
      ]
     },
     "execution_count": 8,
     "metadata": {},
     "output_type": "execute_result"
    }
   ],
   "source": [
    "test_set[0][0].reshape(-1).shape"
   ]
  },
  {
   "cell_type": "code",
   "execution_count": 9,
   "id": "01bc8302-cb51-46b8-9d2d-dadf9e9b03d0",
   "metadata": {},
   "outputs": [],
   "source": [
    "def flatten(dataset):\n",
    "    images, labels = dataset\n",
    "    for i in range(len(images)):\n",
    "        images[i] = images[i].reshape(-1)\n",
    "        images[i] = images[i] / 255.0 # Doing normalization here"
   ]
  },
  {
   "cell_type": "code",
   "execution_count": 10,
   "id": "15ee7f84-065b-4003-a544-8ae228443242",
   "metadata": {},
   "outputs": [],
   "source": [
    "flatten(train_set)\n",
    "flatten(test_set)"
   ]
  },
  {
   "cell_type": "markdown",
   "id": "cb4b9838-0b4c-4948-b2ea-2270aaac04df",
   "metadata": {},
   "source": [
    "#### Function to make DataFrame from dataset"
   ]
  },
  {
   "cell_type": "code",
   "execution_count": 11,
   "id": "3446565d-8cdb-4556-b83f-3eff84513610",
   "metadata": {},
   "outputs": [],
   "source": [
    "def make_df(dataset):\n",
    "    df = pd.DataFrame(dataset[0], columns= [f'pixel {i}' for i in range(1, 785)])\n",
    "    df['label'] = dataset[1]\n",
    "    return df"
   ]
  },
  {
   "cell_type": "code",
   "execution_count": 12,
   "id": "627a4cad-5b30-4977-9f5d-633752b98255",
   "metadata": {},
   "outputs": [],
   "source": [
    "train_df = make_df(train_set)\n",
    "test_df = make_df(test_set)"
   ]
  },
  {
   "cell_type": "markdown",
   "id": "a328ecec-b0c8-4ca6-b771-aab8759cf393",
   "metadata": {},
   "source": [
    "# ML workflow"
   ]
  },
  {
   "cell_type": "code",
   "execution_count": 13,
   "id": "8cf30019-53f7-48cd-bfae-ce0ccd5bcbf3",
   "metadata": {},
   "outputs": [],
   "source": [
    "X = train_df.drop(columns='label')\n",
    "y = train_df['label'].copy()\n",
    "\n",
    "from sklearn.model_selection import train_test_split\n",
    "\n",
    "X_train, X_eval, y_train, y_eval = train_test_split(X, y, test_size=0.2, random_state=42)"
   ]
  },
  {
   "cell_type": "code",
   "execution_count": 14,
   "id": "fda2b3da-c387-4b8d-9699-22f9be0a2cbe",
   "metadata": {},
   "outputs": [],
   "source": [
    "from sklearn.svm import SVC\n",
    "from sklearn.pipeline import Pipeline\n",
    "from sklearn.preprocessing import MinMaxScaler\n",
    "\n",
    "model = Pipeline([\n",
    "    # ('scaler', MinMaxScaler()),\n",
    "    ('clf', SVC(probability=True))\n",
    "])"
   ]
  },
  {
   "cell_type": "code",
   "execution_count": 15,
   "id": "1918d847-0e14-4d56-b5da-17a10ec62217",
   "metadata": {},
   "outputs": [
    {
     "data": {
      "text/html": [
       "<style>#sk-container-id-1 {\n",
       "  /* Definition of color scheme common for light and dark mode */\n",
       "  --sklearn-color-text: #000;\n",
       "  --sklearn-color-text-muted: #666;\n",
       "  --sklearn-color-line: gray;\n",
       "  /* Definition of color scheme for unfitted estimators */\n",
       "  --sklearn-color-unfitted-level-0: #fff5e6;\n",
       "  --sklearn-color-unfitted-level-1: #f6e4d2;\n",
       "  --sklearn-color-unfitted-level-2: #ffe0b3;\n",
       "  --sklearn-color-unfitted-level-3: chocolate;\n",
       "  /* Definition of color scheme for fitted estimators */\n",
       "  --sklearn-color-fitted-level-0: #f0f8ff;\n",
       "  --sklearn-color-fitted-level-1: #d4ebff;\n",
       "  --sklearn-color-fitted-level-2: #b3dbfd;\n",
       "  --sklearn-color-fitted-level-3: cornflowerblue;\n",
       "\n",
       "  /* Specific color for light theme */\n",
       "  --sklearn-color-text-on-default-background: var(--sg-text-color, var(--theme-code-foreground, var(--jp-content-font-color1, black)));\n",
       "  --sklearn-color-background: var(--sg-background-color, var(--theme-background, var(--jp-layout-color0, white)));\n",
       "  --sklearn-color-border-box: var(--sg-text-color, var(--theme-code-foreground, var(--jp-content-font-color1, black)));\n",
       "  --sklearn-color-icon: #696969;\n",
       "\n",
       "  @media (prefers-color-scheme: dark) {\n",
       "    /* Redefinition of color scheme for dark theme */\n",
       "    --sklearn-color-text-on-default-background: var(--sg-text-color, var(--theme-code-foreground, var(--jp-content-font-color1, white)));\n",
       "    --sklearn-color-background: var(--sg-background-color, var(--theme-background, var(--jp-layout-color0, #111)));\n",
       "    --sklearn-color-border-box: var(--sg-text-color, var(--theme-code-foreground, var(--jp-content-font-color1, white)));\n",
       "    --sklearn-color-icon: #878787;\n",
       "  }\n",
       "}\n",
       "\n",
       "#sk-container-id-1 {\n",
       "  color: var(--sklearn-color-text);\n",
       "}\n",
       "\n",
       "#sk-container-id-1 pre {\n",
       "  padding: 0;\n",
       "}\n",
       "\n",
       "#sk-container-id-1 input.sk-hidden--visually {\n",
       "  border: 0;\n",
       "  clip: rect(1px 1px 1px 1px);\n",
       "  clip: rect(1px, 1px, 1px, 1px);\n",
       "  height: 1px;\n",
       "  margin: -1px;\n",
       "  overflow: hidden;\n",
       "  padding: 0;\n",
       "  position: absolute;\n",
       "  width: 1px;\n",
       "}\n",
       "\n",
       "#sk-container-id-1 div.sk-dashed-wrapped {\n",
       "  border: 1px dashed var(--sklearn-color-line);\n",
       "  margin: 0 0.4em 0.5em 0.4em;\n",
       "  box-sizing: border-box;\n",
       "  padding-bottom: 0.4em;\n",
       "  background-color: var(--sklearn-color-background);\n",
       "}\n",
       "\n",
       "#sk-container-id-1 div.sk-container {\n",
       "  /* jupyter's `normalize.less` sets `[hidden] { display: none; }`\n",
       "     but bootstrap.min.css set `[hidden] { display: none !important; }`\n",
       "     so we also need the `!important` here to be able to override the\n",
       "     default hidden behavior on the sphinx rendered scikit-learn.org.\n",
       "     See: https://github.com/scikit-learn/scikit-learn/issues/21755 */\n",
       "  display: inline-block !important;\n",
       "  position: relative;\n",
       "}\n",
       "\n",
       "#sk-container-id-1 div.sk-text-repr-fallback {\n",
       "  display: none;\n",
       "}\n",
       "\n",
       "div.sk-parallel-item,\n",
       "div.sk-serial,\n",
       "div.sk-item {\n",
       "  /* draw centered vertical line to link estimators */\n",
       "  background-image: linear-gradient(var(--sklearn-color-text-on-default-background), var(--sklearn-color-text-on-default-background));\n",
       "  background-size: 2px 100%;\n",
       "  background-repeat: no-repeat;\n",
       "  background-position: center center;\n",
       "}\n",
       "\n",
       "/* Parallel-specific style estimator block */\n",
       "\n",
       "#sk-container-id-1 div.sk-parallel-item::after {\n",
       "  content: \"\";\n",
       "  width: 100%;\n",
       "  border-bottom: 2px solid var(--sklearn-color-text-on-default-background);\n",
       "  flex-grow: 1;\n",
       "}\n",
       "\n",
       "#sk-container-id-1 div.sk-parallel {\n",
       "  display: flex;\n",
       "  align-items: stretch;\n",
       "  justify-content: center;\n",
       "  background-color: var(--sklearn-color-background);\n",
       "  position: relative;\n",
       "}\n",
       "\n",
       "#sk-container-id-1 div.sk-parallel-item {\n",
       "  display: flex;\n",
       "  flex-direction: column;\n",
       "}\n",
       "\n",
       "#sk-container-id-1 div.sk-parallel-item:first-child::after {\n",
       "  align-self: flex-end;\n",
       "  width: 50%;\n",
       "}\n",
       "\n",
       "#sk-container-id-1 div.sk-parallel-item:last-child::after {\n",
       "  align-self: flex-start;\n",
       "  width: 50%;\n",
       "}\n",
       "\n",
       "#sk-container-id-1 div.sk-parallel-item:only-child::after {\n",
       "  width: 0;\n",
       "}\n",
       "\n",
       "/* Serial-specific style estimator block */\n",
       "\n",
       "#sk-container-id-1 div.sk-serial {\n",
       "  display: flex;\n",
       "  flex-direction: column;\n",
       "  align-items: center;\n",
       "  background-color: var(--sklearn-color-background);\n",
       "  padding-right: 1em;\n",
       "  padding-left: 1em;\n",
       "}\n",
       "\n",
       "\n",
       "/* Toggleable style: style used for estimator/Pipeline/ColumnTransformer box that is\n",
       "clickable and can be expanded/collapsed.\n",
       "- Pipeline and ColumnTransformer use this feature and define the default style\n",
       "- Estimators will overwrite some part of the style using the `sk-estimator` class\n",
       "*/\n",
       "\n",
       "/* Pipeline and ColumnTransformer style (default) */\n",
       "\n",
       "#sk-container-id-1 div.sk-toggleable {\n",
       "  /* Default theme specific background. It is overwritten whether we have a\n",
       "  specific estimator or a Pipeline/ColumnTransformer */\n",
       "  background-color: var(--sklearn-color-background);\n",
       "}\n",
       "\n",
       "/* Toggleable label */\n",
       "#sk-container-id-1 label.sk-toggleable__label {\n",
       "  cursor: pointer;\n",
       "  display: flex;\n",
       "  width: 100%;\n",
       "  margin-bottom: 0;\n",
       "  padding: 0.5em;\n",
       "  box-sizing: border-box;\n",
       "  text-align: center;\n",
       "  align-items: start;\n",
       "  justify-content: space-between;\n",
       "  gap: 0.5em;\n",
       "}\n",
       "\n",
       "#sk-container-id-1 label.sk-toggleable__label .caption {\n",
       "  font-size: 0.6rem;\n",
       "  font-weight: lighter;\n",
       "  color: var(--sklearn-color-text-muted);\n",
       "}\n",
       "\n",
       "#sk-container-id-1 label.sk-toggleable__label-arrow:before {\n",
       "  /* Arrow on the left of the label */\n",
       "  content: \"▸\";\n",
       "  float: left;\n",
       "  margin-right: 0.25em;\n",
       "  color: var(--sklearn-color-icon);\n",
       "}\n",
       "\n",
       "#sk-container-id-1 label.sk-toggleable__label-arrow:hover:before {\n",
       "  color: var(--sklearn-color-text);\n",
       "}\n",
       "\n",
       "/* Toggleable content - dropdown */\n",
       "\n",
       "#sk-container-id-1 div.sk-toggleable__content {\n",
       "  max-height: 0;\n",
       "  max-width: 0;\n",
       "  overflow: hidden;\n",
       "  text-align: left;\n",
       "  /* unfitted */\n",
       "  background-color: var(--sklearn-color-unfitted-level-0);\n",
       "}\n",
       "\n",
       "#sk-container-id-1 div.sk-toggleable__content.fitted {\n",
       "  /* fitted */\n",
       "  background-color: var(--sklearn-color-fitted-level-0);\n",
       "}\n",
       "\n",
       "#sk-container-id-1 div.sk-toggleable__content pre {\n",
       "  margin: 0.2em;\n",
       "  border-radius: 0.25em;\n",
       "  color: var(--sklearn-color-text);\n",
       "  /* unfitted */\n",
       "  background-color: var(--sklearn-color-unfitted-level-0);\n",
       "}\n",
       "\n",
       "#sk-container-id-1 div.sk-toggleable__content.fitted pre {\n",
       "  /* unfitted */\n",
       "  background-color: var(--sklearn-color-fitted-level-0);\n",
       "}\n",
       "\n",
       "#sk-container-id-1 input.sk-toggleable__control:checked~div.sk-toggleable__content {\n",
       "  /* Expand drop-down */\n",
       "  max-height: 200px;\n",
       "  max-width: 100%;\n",
       "  overflow: auto;\n",
       "}\n",
       "\n",
       "#sk-container-id-1 input.sk-toggleable__control:checked~label.sk-toggleable__label-arrow:before {\n",
       "  content: \"▾\";\n",
       "}\n",
       "\n",
       "/* Pipeline/ColumnTransformer-specific style */\n",
       "\n",
       "#sk-container-id-1 div.sk-label input.sk-toggleable__control:checked~label.sk-toggleable__label {\n",
       "  color: var(--sklearn-color-text);\n",
       "  background-color: var(--sklearn-color-unfitted-level-2);\n",
       "}\n",
       "\n",
       "#sk-container-id-1 div.sk-label.fitted input.sk-toggleable__control:checked~label.sk-toggleable__label {\n",
       "  background-color: var(--sklearn-color-fitted-level-2);\n",
       "}\n",
       "\n",
       "/* Estimator-specific style */\n",
       "\n",
       "/* Colorize estimator box */\n",
       "#sk-container-id-1 div.sk-estimator input.sk-toggleable__control:checked~label.sk-toggleable__label {\n",
       "  /* unfitted */\n",
       "  background-color: var(--sklearn-color-unfitted-level-2);\n",
       "}\n",
       "\n",
       "#sk-container-id-1 div.sk-estimator.fitted input.sk-toggleable__control:checked~label.sk-toggleable__label {\n",
       "  /* fitted */\n",
       "  background-color: var(--sklearn-color-fitted-level-2);\n",
       "}\n",
       "\n",
       "#sk-container-id-1 div.sk-label label.sk-toggleable__label,\n",
       "#sk-container-id-1 div.sk-label label {\n",
       "  /* The background is the default theme color */\n",
       "  color: var(--sklearn-color-text-on-default-background);\n",
       "}\n",
       "\n",
       "/* On hover, darken the color of the background */\n",
       "#sk-container-id-1 div.sk-label:hover label.sk-toggleable__label {\n",
       "  color: var(--sklearn-color-text);\n",
       "  background-color: var(--sklearn-color-unfitted-level-2);\n",
       "}\n",
       "\n",
       "/* Label box, darken color on hover, fitted */\n",
       "#sk-container-id-1 div.sk-label.fitted:hover label.sk-toggleable__label.fitted {\n",
       "  color: var(--sklearn-color-text);\n",
       "  background-color: var(--sklearn-color-fitted-level-2);\n",
       "}\n",
       "\n",
       "/* Estimator label */\n",
       "\n",
       "#sk-container-id-1 div.sk-label label {\n",
       "  font-family: monospace;\n",
       "  font-weight: bold;\n",
       "  display: inline-block;\n",
       "  line-height: 1.2em;\n",
       "}\n",
       "\n",
       "#sk-container-id-1 div.sk-label-container {\n",
       "  text-align: center;\n",
       "}\n",
       "\n",
       "/* Estimator-specific */\n",
       "#sk-container-id-1 div.sk-estimator {\n",
       "  font-family: monospace;\n",
       "  border: 1px dotted var(--sklearn-color-border-box);\n",
       "  border-radius: 0.25em;\n",
       "  box-sizing: border-box;\n",
       "  margin-bottom: 0.5em;\n",
       "  /* unfitted */\n",
       "  background-color: var(--sklearn-color-unfitted-level-0);\n",
       "}\n",
       "\n",
       "#sk-container-id-1 div.sk-estimator.fitted {\n",
       "  /* fitted */\n",
       "  background-color: var(--sklearn-color-fitted-level-0);\n",
       "}\n",
       "\n",
       "/* on hover */\n",
       "#sk-container-id-1 div.sk-estimator:hover {\n",
       "  /* unfitted */\n",
       "  background-color: var(--sklearn-color-unfitted-level-2);\n",
       "}\n",
       "\n",
       "#sk-container-id-1 div.sk-estimator.fitted:hover {\n",
       "  /* fitted */\n",
       "  background-color: var(--sklearn-color-fitted-level-2);\n",
       "}\n",
       "\n",
       "/* Specification for estimator info (e.g. \"i\" and \"?\") */\n",
       "\n",
       "/* Common style for \"i\" and \"?\" */\n",
       "\n",
       ".sk-estimator-doc-link,\n",
       "a:link.sk-estimator-doc-link,\n",
       "a:visited.sk-estimator-doc-link {\n",
       "  float: right;\n",
       "  font-size: smaller;\n",
       "  line-height: 1em;\n",
       "  font-family: monospace;\n",
       "  background-color: var(--sklearn-color-background);\n",
       "  border-radius: 1em;\n",
       "  height: 1em;\n",
       "  width: 1em;\n",
       "  text-decoration: none !important;\n",
       "  margin-left: 0.5em;\n",
       "  text-align: center;\n",
       "  /* unfitted */\n",
       "  border: var(--sklearn-color-unfitted-level-1) 1pt solid;\n",
       "  color: var(--sklearn-color-unfitted-level-1);\n",
       "}\n",
       "\n",
       ".sk-estimator-doc-link.fitted,\n",
       "a:link.sk-estimator-doc-link.fitted,\n",
       "a:visited.sk-estimator-doc-link.fitted {\n",
       "  /* fitted */\n",
       "  border: var(--sklearn-color-fitted-level-1) 1pt solid;\n",
       "  color: var(--sklearn-color-fitted-level-1);\n",
       "}\n",
       "\n",
       "/* On hover */\n",
       "div.sk-estimator:hover .sk-estimator-doc-link:hover,\n",
       ".sk-estimator-doc-link:hover,\n",
       "div.sk-label-container:hover .sk-estimator-doc-link:hover,\n",
       ".sk-estimator-doc-link:hover {\n",
       "  /* unfitted */\n",
       "  background-color: var(--sklearn-color-unfitted-level-3);\n",
       "  color: var(--sklearn-color-background);\n",
       "  text-decoration: none;\n",
       "}\n",
       "\n",
       "div.sk-estimator.fitted:hover .sk-estimator-doc-link.fitted:hover,\n",
       ".sk-estimator-doc-link.fitted:hover,\n",
       "div.sk-label-container:hover .sk-estimator-doc-link.fitted:hover,\n",
       ".sk-estimator-doc-link.fitted:hover {\n",
       "  /* fitted */\n",
       "  background-color: var(--sklearn-color-fitted-level-3);\n",
       "  color: var(--sklearn-color-background);\n",
       "  text-decoration: none;\n",
       "}\n",
       "\n",
       "/* Span, style for the box shown on hovering the info icon */\n",
       ".sk-estimator-doc-link span {\n",
       "  display: none;\n",
       "  z-index: 9999;\n",
       "  position: relative;\n",
       "  font-weight: normal;\n",
       "  right: .2ex;\n",
       "  padding: .5ex;\n",
       "  margin: .5ex;\n",
       "  width: min-content;\n",
       "  min-width: 20ex;\n",
       "  max-width: 50ex;\n",
       "  color: var(--sklearn-color-text);\n",
       "  box-shadow: 2pt 2pt 4pt #999;\n",
       "  /* unfitted */\n",
       "  background: var(--sklearn-color-unfitted-level-0);\n",
       "  border: .5pt solid var(--sklearn-color-unfitted-level-3);\n",
       "}\n",
       "\n",
       ".sk-estimator-doc-link.fitted span {\n",
       "  /* fitted */\n",
       "  background: var(--sklearn-color-fitted-level-0);\n",
       "  border: var(--sklearn-color-fitted-level-3);\n",
       "}\n",
       "\n",
       ".sk-estimator-doc-link:hover span {\n",
       "  display: block;\n",
       "}\n",
       "\n",
       "/* \"?\"-specific style due to the `<a>` HTML tag */\n",
       "\n",
       "#sk-container-id-1 a.estimator_doc_link {\n",
       "  float: right;\n",
       "  font-size: 1rem;\n",
       "  line-height: 1em;\n",
       "  font-family: monospace;\n",
       "  background-color: var(--sklearn-color-background);\n",
       "  border-radius: 1rem;\n",
       "  height: 1rem;\n",
       "  width: 1rem;\n",
       "  text-decoration: none;\n",
       "  /* unfitted */\n",
       "  color: var(--sklearn-color-unfitted-level-1);\n",
       "  border: var(--sklearn-color-unfitted-level-1) 1pt solid;\n",
       "}\n",
       "\n",
       "#sk-container-id-1 a.estimator_doc_link.fitted {\n",
       "  /* fitted */\n",
       "  border: var(--sklearn-color-fitted-level-1) 1pt solid;\n",
       "  color: var(--sklearn-color-fitted-level-1);\n",
       "}\n",
       "\n",
       "/* On hover */\n",
       "#sk-container-id-1 a.estimator_doc_link:hover {\n",
       "  /* unfitted */\n",
       "  background-color: var(--sklearn-color-unfitted-level-3);\n",
       "  color: var(--sklearn-color-background);\n",
       "  text-decoration: none;\n",
       "}\n",
       "\n",
       "#sk-container-id-1 a.estimator_doc_link.fitted:hover {\n",
       "  /* fitted */\n",
       "  background-color: var(--sklearn-color-fitted-level-3);\n",
       "}\n",
       "</style><div id=\"sk-container-id-1\" class=\"sk-top-container\"><div class=\"sk-text-repr-fallback\"><pre>Pipeline(steps=[(&#x27;clf&#x27;, SVC(probability=True))])</pre><b>In a Jupyter environment, please rerun this cell to show the HTML representation or trust the notebook. <br />On GitHub, the HTML representation is unable to render, please try loading this page with nbviewer.org.</b></div><div class=\"sk-container\" hidden><div class=\"sk-item sk-dashed-wrapped\"><div class=\"sk-label-container\"><div class=\"sk-label fitted sk-toggleable\"><input class=\"sk-toggleable__control sk-hidden--visually\" id=\"sk-estimator-id-1\" type=\"checkbox\" ><label for=\"sk-estimator-id-1\" class=\"sk-toggleable__label fitted sk-toggleable__label-arrow\"><div><div>Pipeline</div></div><div><a class=\"sk-estimator-doc-link fitted\" rel=\"noreferrer\" target=\"_blank\" href=\"https://scikit-learn.org/1.6/modules/generated/sklearn.pipeline.Pipeline.html\">?<span>Documentation for Pipeline</span></a><span class=\"sk-estimator-doc-link fitted\">i<span>Fitted</span></span></div></label><div class=\"sk-toggleable__content fitted\"><pre>Pipeline(steps=[(&#x27;clf&#x27;, SVC(probability=True))])</pre></div> </div></div><div class=\"sk-serial\"><div class=\"sk-item\"><div class=\"sk-estimator fitted sk-toggleable\"><input class=\"sk-toggleable__control sk-hidden--visually\" id=\"sk-estimator-id-2\" type=\"checkbox\" ><label for=\"sk-estimator-id-2\" class=\"sk-toggleable__label fitted sk-toggleable__label-arrow\"><div><div>SVC</div></div><div><a class=\"sk-estimator-doc-link fitted\" rel=\"noreferrer\" target=\"_blank\" href=\"https://scikit-learn.org/1.6/modules/generated/sklearn.svm.SVC.html\">?<span>Documentation for SVC</span></a></div></label><div class=\"sk-toggleable__content fitted\"><pre>SVC(probability=True)</pre></div> </div></div></div></div></div></div>"
      ],
      "text/plain": [
       "Pipeline(steps=[('clf', SVC(probability=True))])"
      ]
     },
     "execution_count": 15,
     "metadata": {},
     "output_type": "execute_result"
    }
   ],
   "source": [
    "model.fit(X_train, y_train)"
   ]
  },
  {
   "cell_type": "code",
   "execution_count": 16,
   "id": "d589958f-f92f-4cc3-a832-097c383a8ce2",
   "metadata": {},
   "outputs": [],
   "source": [
    "y_pred = model.predict(X_eval)"
   ]
  },
  {
   "cell_type": "markdown",
   "id": "c6f9d825-df98-4c20-be47-81d17a913de1",
   "metadata": {},
   "source": [
    "## Testing model:"
   ]
  },
  {
   "cell_type": "code",
   "execution_count": 17,
   "id": "63f6f988-fb99-418f-b5f0-dd016dc69cf0",
   "metadata": {},
   "outputs": [
    {
     "name": "stdout",
     "output_type": "stream",
     "text": [
      "              precision    recall  f1-score   support\n",
      "\n",
      "           0       0.99      0.99      0.99      1181\n",
      "           1       0.99      0.99      0.99      1350\n",
      "           2       0.97      0.98      0.98      1162\n",
      "           3       0.97      0.97      0.97      1203\n",
      "           4       0.97      0.98      0.98      1124\n",
      "           5       0.97      0.97      0.97      1116\n",
      "           6       0.98      0.99      0.99      1221\n",
      "           7       0.98      0.98      0.98      1249\n",
      "           8       0.98      0.96      0.97      1210\n",
      "           9       0.97      0.95      0.96      1184\n",
      "\n",
      "    accuracy                           0.98     12000\n",
      "   macro avg       0.98      0.98      0.98     12000\n",
      "weighted avg       0.98      0.98      0.98     12000\n",
      "\n"
     ]
    }
   ],
   "source": [
    "from sklearn.metrics import classification_report\n",
    "\n",
    "print(classification_report(y_eval, y_pred))"
   ]
  },
  {
   "cell_type": "markdown",
   "id": "5c3b8ca9-8fb5-40ba-8ea3-694db792d01a",
   "metadata": {},
   "source": [
    "### let's evaluate with test data:"
   ]
  },
  {
   "cell_type": "code",
   "execution_count": 18,
   "id": "23dbf8bd-d76a-4874-b2e6-61fd134c99ff",
   "metadata": {},
   "outputs": [],
   "source": [
    "test_pred = model.predict(test_df.drop(columns='label'))"
   ]
  },
  {
   "cell_type": "code",
   "execution_count": 19,
   "id": "0712e139-1e41-4540-a625-6a04a3b44786",
   "metadata": {},
   "outputs": [
    {
     "name": "stdout",
     "output_type": "stream",
     "text": [
      "              precision    recall  f1-score   support\n",
      "\n",
      "           0       0.98      0.99      0.99       980\n",
      "           1       0.99      0.99      0.99      1135\n",
      "           2       0.98      0.98      0.98      1032\n",
      "           3       0.97      0.98      0.98      1010\n",
      "           4       0.98      0.98      0.98       982\n",
      "           5       0.98      0.97      0.98       892\n",
      "           6       0.99      0.98      0.99       958\n",
      "           7       0.97      0.97      0.97      1028\n",
      "           8       0.97      0.97      0.97       974\n",
      "           9       0.97      0.96      0.96      1009\n",
      "\n",
      "    accuracy                           0.98     10000\n",
      "   macro avg       0.98      0.98      0.98     10000\n",
      "weighted avg       0.98      0.98      0.98     10000\n",
      "\n"
     ]
    }
   ],
   "source": [
    "print(classification_report(test_df['label'], test_pred))"
   ]
  },
  {
   "cell_type": "code",
   "execution_count": 20,
   "id": "34ed0690-4e5d-410e-9569-f3452d7bc3b9",
   "metadata": {},
   "outputs": [
    {
     "data": {
      "text/plain": [
       "array([[ 973,    0,    1,    1,    0,    2,    0,    1,    2,    0],\n",
       "       [   0, 1126,    3,    1,    0,    1,    1,    1,    2,    0],\n",
       "       [   5,    1, 1009,    2,    2,    0,    1,    7,    5,    0],\n",
       "       [   0,    0,    2,  993,    0,    3,    0,    6,    5,    1],\n",
       "       [   0,    0,    5,    0,  961,    0,    2,    0,    2,   12],\n",
       "       [   2,    0,    0,   11,    0,  869,    4,    1,    3,    2],\n",
       "       [   4,    2,    0,    0,    2,    5,  943,    0,    2,    0],\n",
       "       [   0,    8,   11,    2,    2,    0,    0,  994,    1,   10],\n",
       "       [   3,    0,    2,    6,    5,    2,    2,    2,  949,    3],\n",
       "       [   4,    4,    1,    8,   12,    1,    0,    8,    6,  965]])"
      ]
     },
     "execution_count": 20,
     "metadata": {},
     "output_type": "execute_result"
    }
   ],
   "source": [
    "from sklearn.metrics import confusion_matrix\n",
    "\n",
    "confusion_matrix(test_df['label'], test_pred)"
   ]
  },
  {
   "cell_type": "markdown",
   "id": "fa658b76-a77d-4492-89d6-385c435ab4b3",
   "metadata": {},
   "source": [
    "Not bad!"
   ]
  },
  {
   "cell_type": "code",
   "execution_count": 21,
   "id": "45027dae-453f-4ff9-a0c9-c14a13b181c2",
   "metadata": {},
   "outputs": [
    {
     "name": "stdout",
     "output_type": "stream",
     "text": [
      "[0.9759  0.9748  0.97505]\n"
     ]
    }
   ],
   "source": [
    "from sklearn.model_selection import cross_val_score\n",
    "\n",
    "scores = cross_val_score(model, X, y, cv=3, scoring='accuracy', n_jobs=-1)\n",
    "print(scores)"
   ]
  },
  {
   "cell_type": "markdown",
   "id": "3264e0be-5120-472b-a90e-a96570664621",
   "metadata": {},
   "source": [
    "# Time to test it with my custom input"
   ]
  },
  {
   "cell_type": "code",
   "execution_count": 22,
   "id": "30195240-0879-4393-9da8-c6756ac22086",
   "metadata": {},
   "outputs": [],
   "source": [
    "myTestBatch_ds = read_imgs('MyTestBatch', folder_path)\n",
    "toGray(myTestBatch_ds)\n",
    "flatten(myTestBatch_ds)"
   ]
  },
  {
   "cell_type": "code",
   "execution_count": 23,
   "id": "445fa917-cf45-46f4-96e5-77833f10cf85",
   "metadata": {},
   "outputs": [],
   "source": [
    "df = make_df(myTestBatch_ds)\n",
    "\n",
    "X = df.drop(columns='label')\n",
    "y = df['label']"
   ]
  },
  {
   "cell_type": "code",
   "execution_count": 24,
   "id": "ae412e02-0670-43fd-b05d-2840a1530cc4",
   "metadata": {},
   "outputs": [
    {
     "data": {
      "image/png": "[encoded data removed]",
      "text/plain": [
       "<Figure size 900x500 with 10 Axes>"
      ]
     },
     "metadata": {},
     "output_type": "display_data"
    }
   ],
   "source": [
    "fig, axes = plt.subplots(2, 5, figsize=(9, 5))  \n",
    "axes = axes.flatten()\n",
    "\n",
    "pred = model.predict(X)\n",
    "\n",
    "for i in range(10):\n",
    "    axes[i].imshow(myTestBatch_ds[0][i].reshape(28, -1), cmap='gray')\n",
    "    axes[i].set_title(f\"Predicted digit {pred[i]}\")\n",
    "    axes[i].axis('off')\n",
    "\n",
    "plt.tight_layout()\n",
    "\n",
    "plt.show()"
   ]
  },
  {
   "cell_type": "markdown",
   "id": "880c39f0-a7a6-4191-900c-f61e9953c552",
   "metadata": {},
   "source": [
    "# ChatGPT code for better analysis"
   ]
  },
  {
   "cell_type": "code",
   "execution_count": 25,
   "id": "b14cb4b4-af62-4bde-86d5-5d6660933fbb",
   "metadata": {},
   "outputs": [],
   "source": [
    "pred_probs = model.predict_proba(X)  # Get probability for each class"
   ]
  },
  {
   "cell_type": "code",
   "execution_count": 26,
   "id": "54acd0df-6a11-4278-8d05-751f14d2d3fd",
   "metadata": {},
   "outputs": [
    {
     "data": {
      "image/png": "[encoded data removed]",
      "text/plain": [
       "<Figure size 1500x800 with 20 Axes>"
      ]
     },
     "metadata": {},
     "output_type": "display_data"
    }
   ],
   "source": [
    "# 4 rows: image row, bar row, image row, bar row\n",
    "fig, axes = plt.subplots(4, 5, figsize=(15, 8))  # Wider figure\n",
    "axes = axes.reshape(4, 5)\n",
    "\n",
    "# Predict using the model\n",
    "pred = model.predict(X)\n",
    "pred_probs = model.predict_proba(X)\n",
    "\n",
    "for i in range(10):\n",
    "    row_offset = 0 if i < 5 else 2  # Top half or bottom half\n",
    "    col = i % 5\n",
    "\n",
    "    # Image on top\n",
    "    axes[row_offset][col].imshow(myTestBatch_ds[0][i].reshape(28, 28), cmap='gray')\n",
    "    axes[row_offset][col].set_title(f\"Pred {pred[i]}\")\n",
    "    axes[row_offset][col].axis('off')\n",
    "\n",
    "    # Histogram below\n",
    "    ax_bar = axes[row_offset + 1][col]\n",
    "    ax_bar.bar(range(10), pred_probs[i], color='skyblue', width=0.8)\n",
    "    ax_bar.set_xticks(range(10))\n",
    "    ax_bar.set_xticklabels([str(j) for j in range(10)])\n",
    "    ax_bar.set_ylim(0, 1)\n",
    "    ax_bar.set_xlim(-0.5, 9.5)\n",
    "    ax_bar.set_title(f'Instance {i}')\n",
    "    ax_bar.set_aspect((10 / 1), adjustable='box')  # 1:1 look\n",
    "\n",
    "plt.tight_layout()\n",
    "plt.show()\n"
   ]
  },
  {
   "cell_type": "markdown",
   "id": "851e98ee-abfa-4fc3-a5c6-defec9ce332d",
   "metadata": {},
   "source": [
    "This offers valuable insight!"
   ]
  },
  {
   "cell_type": "code",
   "execution_count": null,
   "id": "29bd4f18-b9e5-4fa4-b949-ed2be260523a",
   "metadata": {},
   "outputs": [],
   "source": []
  }
 ],
 "metadata": {
  "kernelspec": {
   "display_name": "Python 3 (ipykernel)",
   "language": "python",
   "name": "python3"
  },
  "language_info": {
   "codemirror_mode": {
    "name": "ipython",
    "version": 3
   },
   "file_extension": ".py",
   "mimetype": "text/x-python",
   "name": "python",
   "nbconvert_exporter": "python",
   "pygments_lexer": "ipython3",
   "version": "3.11.0"
  }
 },
 "nbformat": 4,
 "nbformat_minor": 5
}
