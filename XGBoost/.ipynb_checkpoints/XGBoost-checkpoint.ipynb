{
 "cells": [
  {
   "cell_type": "markdown",
   "id": "a5b3b77a-e8ff-450e-8755-c6295645f2a5",
   "metadata": {},
   "source": [
    "This project demonstrates a beginner-friendly approach to MNIST classification using an XGBoost classifier. The MNIST dataset consists of images in formats such as JPG, JPEG, and PNG, which I process using OpenCV to convert them into numerical data suitable for machine learning. At the end, I test the classifier using custom inputs that I drew in Paint, and the model performs well enough to meet my expectations, though I’m giving it some slack for a bit of room to improve."
   ]
  },
  {
   "cell_type": "markdown",
   "id": "e1898929-4548-456f-965c-d83a522e62fc",
   "metadata": {},
   "source": [
    "## Imports and installs"
   ]
  },
  {
   "cell_type": "code",
   "execution_count": 1,
   "id": "1afc758e-86b6-4a13-a435-7e722b16ce1c",
   "metadata": {},
   "outputs": [],
   "source": [
    "# !pip install xgboost"
   ]
  },
  {
   "cell_type": "code",
   "execution_count": 2,
   "id": "dc1adf8c-81d1-4c91-829b-5f602b80cef4",
   "metadata": {},
   "outputs": [],
   "source": [
    "import os\n",
    "import cv2\n",
    "import numpy as np\n",
    "import pandas as pd\n",
    "import matplotlib.pyplot as plt\n",
    "import xgboost \n",
    "from sklearn.model_selection import train_test_split, cross_val_score\n",
    "from sklearn.metrics import accuracy_score, classification_report\n",
    "from sklearn.preprocessing import LabelEncoder\n",
    "from sklearn.pipeline import Pipeline\n",
    "from sklearn.preprocessing import MinMaxScaler\n",
    "\n",
    "folder_path = '../MNIST/mnist-png' # 'C:/Users/gurau/Desktop/Jupyter_Lab/3. Computer Vision/MNIST/mnist-png'   "
   ]
  },
  {
   "cell_type": "markdown",
   "id": "3f061187-6bf2-4123-8386-ad2a2dbfaf77",
   "metadata": {},
   "source": [
    "## Helper functions:"
   ]
  },
  {
   "cell_type": "code",
   "execution_count": 3,
   "id": "3487bf68-9b89-405a-a7c1-cff1da8fe4ab",
   "metadata": {},
   "outputs": [],
   "source": [
    "def read_imgs(ds_type, folder_path):\n",
    "    folder = os.path.join(folder_path, ds_type)\n",
    "    images, labels = [], []\n",
    "    \n",
    "    for digit in os.listdir(folder):\n",
    "        files_path = os.path.join(folder, digit)\n",
    "        for image in os.listdir(files_path):\n",
    "            image_path = os.path.join(files_path, image)\n",
    "            img = cv2.imread(image_path)\n",
    "            img = cv2.cvtColor(img, cv2.COLOR_BGR2GRAY)\n",
    "            img = img.reshape(-1)\n",
    "            img = img / 255.0\n",
    "            images.append(img)\n",
    "            labels.append(int(digit))\n",
    "            \n",
    "    return images, labels\n",
    "      \n",
    "def make_df(dataset):\n",
    "    df = pd.DataFrame(dataset[0], columns= [f'pixel {i}' for i in range(1, 785)])\n",
    "    df['label'] = dataset[1]\n",
    "    return df"
   ]
  },
  {
   "cell_type": "markdown",
   "id": "b5c83ff1-598c-4d44-bac9-8ec357a736e8",
   "metadata": {},
   "source": [
    "### Loading data"
   ]
  },
  {
   "cell_type": "code",
   "execution_count": 4,
   "id": "d30362f8-1b15-484a-9881-215e90738b6a",
   "metadata": {},
   "outputs": [],
   "source": [
    "train_set = read_imgs('train', folder_path)\n",
    "test_set = read_imgs('test', folder_path)\n",
    "\n",
    "train_df = make_df(train_set)\n",
    "test_df = make_df(test_set)"
   ]
  },
  {
   "cell_type": "markdown",
   "id": "8eef8565-e4ff-459e-b394-c3f1b845299d",
   "metadata": {},
   "source": [
    "## Making model"
   ]
  },
  {
   "cell_type": "code",
   "execution_count": 5,
   "id": "7512a912-d4b2-4448-b85c-8590db96dfd9",
   "metadata": {},
   "outputs": [],
   "source": [
    "X = train_df.drop(columns='label')\n",
    "y = train_df['label'].copy()\n",
    "\n",
    "X_train, X_test, y_train, y_test = train_test_split(X, y, test_size=0.2, random_state = 42)\n",
    "\n",
    "model = Pipeline([\n",
    "    # ('scaler', MinMaxScaler()), I normalized data in the read_imgs function\n",
    "    ('clf', xgboost.XGBClassifier(n_jobs=-1, tree_method='hist'))\n",
    "])\n",
    "\n",
    "model.fit(X_train, y_train)\n",
    "y_pred = model.predict(X_test)"
   ]
  },
  {
   "cell_type": "markdown",
   "id": "ffddcfbe-4885-4c6f-9e22-bc78ebad5398",
   "metadata": {},
   "source": [
    "## Testing model"
   ]
  },
  {
   "cell_type": "code",
   "execution_count": 6,
   "id": "636cfa09-e28e-47be-aeab-d79b2e15bc0e",
   "metadata": {},
   "outputs": [
    {
     "name": "stdout",
     "output_type": "stream",
     "text": [
      "0.9735\n",
      "              precision    recall  f1-score   support\n",
      "\n",
      "           0       0.99      0.98      0.99      1181\n",
      "           1       0.99      0.98      0.99      1350\n",
      "           2       0.96      0.98      0.97      1162\n",
      "           3       0.97      0.97      0.97      1203\n",
      "           4       0.96      0.97      0.97      1124\n",
      "           5       0.98      0.97      0.97      1116\n",
      "           6       0.98      0.98      0.98      1221\n",
      "           7       0.98      0.98      0.98      1249\n",
      "           8       0.97      0.96      0.96      1210\n",
      "           9       0.96      0.95      0.96      1184\n",
      "\n",
      "    accuracy                           0.97     12000\n",
      "   macro avg       0.97      0.97      0.97     12000\n",
      "weighted avg       0.97      0.97      0.97     12000\n",
      "\n"
     ]
    }
   ],
   "source": [
    "print(accuracy_score(y_test, y_pred))\n",
    "print(classification_report(y_test, y_pred))"
   ]
  },
  {
   "cell_type": "code",
   "execution_count": 7,
   "id": "253d75f5-7632-41e1-8088-286000e7b103",
   "metadata": {},
   "outputs": [],
   "source": [
    "scores = cross_val_score(model, X, y, cv=3, scoring='accuracy', n_jobs=-1)"
   ]
  },
  {
   "cell_type": "code",
   "execution_count": 8,
   "id": "e992cdf7-e0b1-4101-b54f-9f44e532249d",
   "metadata": {},
   "outputs": [
    {
     "name": "stdout",
     "output_type": "stream",
     "text": [
      "[0.9734  0.97325 0.9731 ]\n"
     ]
    }
   ],
   "source": [
    "print(scores)"
   ]
  },
  {
   "cell_type": "markdown",
   "id": "d260f112-77da-47ad-bf06-6ff149ecdf13",
   "metadata": {},
   "source": [
    "A mean accuracy of 97,325% (very close to the previous calculated one)"
   ]
  },
  {
   "cell_type": "code",
   "execution_count": 9,
   "id": "7314d483-b239-4296-9ea8-42e3738506c5",
   "metadata": {},
   "outputs": [
    {
     "data": {
      "text/plain": [
       "array([[1163,    0,    2,    0,    3,    1,    5,    0,    5,    2],\n",
       "       [   0, 1329,   14,    1,    2,    0,    1,    1,    2,    0],\n",
       "       [   2,    1, 1134,    5,    5,    0,    2,    6,    5,    2],\n",
       "       [   0,    0,   14, 1169,    0,    6,    1,    2,    5,    6],\n",
       "       [   3,    4,    1,    0, 1095,    0,    4,    0,    2,   15],\n",
       "       [   3,    2,    0,    8,    4, 1085,    7,    0,    5,    2],\n",
       "       [   2,    0,    2,    0,    1,    8, 1200,    0,    8,    0],\n",
       "       [   2,    3,    8,    1,    5,    0,    0, 1219,    1,   10],\n",
       "       [   2,    5,   10,    6,    5,    6,    4,    1, 1163,    8],\n",
       "       [   3,    4,    1,   11,   16,    5,    0,   12,    7, 1125]])"
      ]
     },
     "execution_count": 9,
     "metadata": {},
     "output_type": "execute_result"
    }
   ],
   "source": [
    "from sklearn.metrics import confusion_matrix\n",
    "\n",
    "confusion_matrix(y_test, y_pred)"
   ]
  },
  {
   "cell_type": "code",
   "execution_count": 10,
   "id": "eff434e7-be63-4c2d-8234-1b06b7b7fc8d",
   "metadata": {},
   "outputs": [
    {
     "data": {
      "image/png": "[encoded data removed]",
      "text/plain": [
       "<Figure size 900x500 with 10 Axes>"
      ]
     },
     "metadata": {},
     "output_type": "display_data"
    }
   ],
   "source": [
    "myTestBatch_ds = read_imgs('MyTestBatch', folder_path)\n",
    "\n",
    "df = make_df(myTestBatch_ds)\n",
    "\n",
    "X = df.drop(columns='label')\n",
    "y = df['label']\n",
    "\n",
    "fig, axes = plt.subplots(2, 5, figsize=(9, 5))  \n",
    "axes = axes.flatten()\n",
    "\n",
    "pred = model.predict(X)\n",
    "\n",
    "for i in range(10):\n",
    "    axes[i].imshow(myTestBatch_ds[0][i].reshape(28, -1), cmap='gray')\n",
    "    axes[i].set_title(f\"Predicted digit {pred[i]}\")\n",
    "    axes[i].axis('off')\n",
    "\n",
    "plt.tight_layout()\n",
    "\n",
    "plt.show()"
   ]
  },
  {
   "cell_type": "markdown",
   "id": "0671cc56-05e2-4210-8469-7e0df4dc5d20",
   "metadata": {},
   "source": [
    "## More indepth analysis (with script from gpt)"
   ]
  },
  {
   "cell_type": "code",
   "execution_count": 11,
   "id": "ecacdee7-602f-4ea8-9519-23fa9d5ba8aa",
   "metadata": {},
   "outputs": [],
   "source": [
    "pred_probs = model.predict_proba(X)  # Get probability for each class"
   ]
  },
  {
   "cell_type": "code",
   "execution_count": 12,
   "id": "e42ecc54-3455-4f95-8fc1-6131cefa1597",
   "metadata": {},
   "outputs": [
    {
     "data": {
      "image/png": "[encoded data removed]",
      "text/plain": [
       "<Figure size 1500x800 with 20 Axes>"
      ]
     },
     "metadata": {},
     "output_type": "display_data"
    }
   ],
   "source": [
    "# 4 rows: image row, bar row, image row, bar row\n",
    "fig, axes = plt.subplots(4, 5, figsize=(15, 8))  # Wider figure\n",
    "axes = axes.reshape(4, 5)\n",
    "\n",
    "# Predict using the model\n",
    "pred = model.predict(X)\n",
    "pred_probs = model.predict_proba(X)\n",
    "\n",
    "for i in range(10):\n",
    "    row_offset = 0 if i < 5 else 2  # Top half or bottom half\n",
    "    col = i % 5\n",
    "\n",
    "    # Image on top\n",
    "    axes[row_offset][col].imshow(myTestBatch_ds[0][i].reshape(28, 28), cmap='gray')\n",
    "    axes[row_offset][col].set_title(f\"Pred {pred[i]}\")\n",
    "    axes[row_offset][col].axis('off')\n",
    "\n",
    "    # Histogram below\n",
    "    ax_bar = axes[row_offset + 1][col]\n",
    "    ax_bar.bar(range(10), pred_probs[i], color='skyblue', width=0.8)\n",
    "    ax_bar.set_xticks(range(10))\n",
    "    ax_bar.set_xticklabels([str(j) for j in range(10)])\n",
    "    ax_bar.set_ylim(0, 1)\n",
    "    ax_bar.set_xlim(-0.5, 9.5)\n",
    "    ax_bar.set_title(f'Instance {i}')\n",
    "    ax_bar.set_aspect((10 / 1), adjustable='box')  # 1:1 look\n",
    "\n",
    "plt.tight_layout()\n",
    "plt.show()\n"
   ]
  }
 ],
 "metadata": {
  "kernelspec": {
   "display_name": "Python 3 (ipykernel)",
   "language": "python",
   "name": "python3"
  },
  "language_info": {
   "codemirror_mode": {
    "name": "ipython",
    "version": 3
   },
   "file_extension": ".py",
   "mimetype": "text/x-python",
   "name": "python",
   "nbconvert_exporter": "python",
   "pygments_lexer": "ipython3",
   "version": "3.11.0"
  }
 },
 "nbformat": 4,
 "nbformat_minor": 5
}
